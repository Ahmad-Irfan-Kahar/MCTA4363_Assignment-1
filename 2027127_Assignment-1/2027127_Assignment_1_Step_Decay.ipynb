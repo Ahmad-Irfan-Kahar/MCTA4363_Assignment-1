{
  "nbformat": 4,
  "nbformat_minor": 0,
  "metadata": {
    "colab": {
      "provenance": [],
      "gpuType": "T4"
    },
    "kernelspec": {
      "name": "python3",
      "display_name": "Python 3"
    },
    "language_info": {
      "name": "python"
    },
    "accelerator": "GPU"
  },
  "cells": [
    {
      "cell_type": "code",
      "execution_count": null,
      "metadata": {
        "id": "6aDnACV4fGCI"
      },
      "outputs": [],
      "source": [
        "import os\n",
        "\n",
        "# Importing numpy for linear algebra library\n",
        "import numpy as np\n",
        "\n",
        "# Importing matplotlib for graph plotting\n",
        "import matplotlib.pyplot as plt\n",
        "\n",
        "# Importing all torchvision required for training such as optimizer and transform\n",
        "import torch\n",
        "import torch.nn as nn\n",
        "import torch.optim as optim\n",
        "import torchvision\n",
        "import torchvision.transforms as transforms"
      ]
    },
    {
      "cell_type": "code",
      "source": [
        "# Importing zipfile to unzip dataset\n",
        "import zipfile\n",
        "from pathlib import Path\n",
        "\n",
        "# Setup path to data folder\n",
        "data_path = Path(\"data/\")\n",
        "image_path = data_path / \"Expression\" #name of the folder we want to unzip to\n",
        "\n",
        "# If the image folder doesn't exist, create new file...\n",
        "if image_path.is_dir():\n",
        "    print(f\"{image_path} directory exists.\")\n",
        "else:\n",
        "    print(f\"Did not find {image_path} directory, creating one...\")\n",
        "    image_path.mkdir(parents=True, exist_ok=True)\n",
        "\n",
        "# Unzip Expression data\n",
        "with zipfile.ZipFile(\"/content/data/Expression/Expression.zip\", \"r\") as zip_ref:\n",
        "        print(\"Unzipping Expression data...\")\n",
        "        zip_ref.extractall(image_path)"
      ],
      "metadata": {
        "id": "JXUpU1mMfZW1",
        "colab": {
          "base_uri": "https://localhost:8080/"
        },
        "outputId": "80de6d0f-5adf-4091-cbcc-352624d3f979"
      },
      "execution_count": null,
      "outputs": [
        {
          "output_type": "stream",
          "name": "stdout",
          "text": [
            "data/Expression directory exists.\n",
            "Unzipping Expression data...\n"
          ]
        }
      ]
    },
    {
      "cell_type": "code",
      "source": [
        "image_path = data_path / \"Expression\"\n",
        "\n",
        "# Walkthrough the data to check the length of each directories\n",
        "def walk_through_dir(dir_path):\n",
        "  \"\"\"\n",
        "  Walks through dir_path returning its contents.\n",
        "  Args:\n",
        "    dir_path (str or pathlib.Path): target directory\n",
        "\n",
        "  Returns:\n",
        "    A print out of:\n",
        "      number of subdiretories in dir_path\n",
        "      number of images (files) in each subdirectory\n",
        "      name of each subdirectory\n",
        "  \"\"\"\n",
        "  for dirpath, dirnames, filenames in os.walk(dir_path):\n",
        "    print(f\"There are {len(dirnames)} directories and {len(filenames)} images in '{dirpath}'.\")\n",
        "\n",
        "walk_through_dir(image_path)"
      ],
      "metadata": {
        "id": "rk6BKy11hh2A",
        "colab": {
          "base_uri": "https://localhost:8080/"
        },
        "outputId": "6306b73e-d747-4eda-ecb2-4422d09ffb26"
      },
      "execution_count": null,
      "outputs": [
        {
          "output_type": "stream",
          "name": "stdout",
          "text": [
            "There are 2 directories and 1 images in 'data/Expression'.\n",
            "There are 7 directories and 0 images in 'data/Expression/test'.\n",
            "There are 0 directories and 797 images in 'data/Expression/test/surprise'.\n",
            "There are 0 directories and 1825 images in 'data/Expression/test/happy'.\n",
            "There are 0 directories and 1216 images in 'data/Expression/test/neutral'.\n",
            "There are 0 directories and 111 images in 'data/Expression/test/disgust'.\n",
            "There are 0 directories and 960 images in 'data/Expression/test/angry'.\n",
            "There are 0 directories and 1018 images in 'data/Expression/test/fear'.\n",
            "There are 0 directories and 1139 images in 'data/Expression/test/sad'.\n",
            "There are 7 directories and 0 images in 'data/Expression/train'.\n",
            "There are 0 directories and 3205 images in 'data/Expression/train/surprise'.\n",
            "There are 0 directories and 7164 images in 'data/Expression/train/happy'.\n",
            "There are 0 directories and 4982 images in 'data/Expression/train/neutral'.\n",
            "There are 0 directories and 436 images in 'data/Expression/train/disgust'.\n",
            "There are 0 directories and 3993 images in 'data/Expression/train/angry'.\n",
            "There are 0 directories and 4103 images in 'data/Expression/train/fear'.\n",
            "There are 0 directories and 4938 images in 'data/Expression/train/sad'.\n"
          ]
        }
      ]
    },
    {
      "cell_type": "code",
      "source": [
        "from PIL import Image\n",
        "import random\n",
        "\n",
        "# Set seed\n",
        "random.seed(42)\n",
        "\n",
        "# 1. Get all image paths\n",
        "image_path_list = list(image_path.glob(\"*/*/*.jpg\"))\n",
        "\n",
        "# 2. Get random image path\n",
        "random_image_path = random.choice(image_path_list)\n",
        "\n",
        "# 3. Get image class from path name (the image class is the name of the directory where the image is stored)\n",
        "image_class = random_image_path.parent.stem\n",
        "\n",
        "# 4. Open image\n",
        "img = Image.open(random_image_path)\n",
        "\n",
        "# Turn the image into an array\n",
        "img_as_array = np.asarray(img)\n",
        "\n",
        "# Plot the image with matplotlib\n",
        "plt.figure(figsize=(10, 7))\n",
        "plt.imshow(img_as_array)\n",
        "plt.title(f\"Image class: {image_class} | Image shape: {img_as_array.shape} -> [height, width]\")\n",
        "plt.axis(False);"
      ],
      "metadata": {
        "colab": {
          "base_uri": "https://localhost:8080/",
          "height": 598
        },
        "id": "CjWshA9bpp_z",
        "outputId": "6f72ebb5-e02f-4751-9b0a-1e99dc4e9a7a"
      },
      "execution_count": null,
      "outputs": [
        {
          "output_type": "display_data",
          "data": {
            "text/plain": [
              "<Figure size 1000x700 with 1 Axes>"
            ],
            "image/png": "[encoded data removed]"
          },
          "metadata": {}
        }
      ]
    },
    {
      "cell_type": "code",
      "source": [
        "# Image transformation changing to tensor and normalize using mean and standard deviation from imageNet dataset\n",
        "data_transform = transforms.Compose(\n",
        "    [transforms.ToTensor(),\n",
        "     transforms.Normalize([0.485, 0.456, 0.406],\n",
        "                             [0.229, 0.224, 0.225])])"
      ],
      "metadata": {
        "id": "FXW0wCdfh9Iu"
      },
      "execution_count": null,
      "outputs": []
    },
    {
      "cell_type": "code",
      "source": [
        "# Use torchvision.datasets.ImageFolder to create dataset(s)\n",
        "from torchvision import datasets\n",
        "\n",
        "# Setup train and testing paths\n",
        "train_dir = image_path / \"/content/data/Expression/train\"\n",
        "test_dir = image_path / \"/content/data/Expression/test\"\n",
        "\n",
        "\n",
        "train_data = datasets.ImageFolder(root=train_dir, # target folder of images\n",
        "                                  transform=data_transform, # transforms to perform on data (images)\n",
        "                                  target_transform=None) # transforms to perform on labels (if necessary)\n",
        "\n",
        "test_data = datasets.ImageFolder(root=test_dir,\n",
        "                                 transform=data_transform)\n",
        "\n",
        "print(f\"Train data:\\n{train_data}\\nTest data:\\n{test_data}\")"
      ],
      "metadata": {
        "id": "oi_AOykIigJr",
        "colab": {
          "base_uri": "https://localhost:8080/"
        },
        "outputId": "1143ec12-1766-4d58-a715-3fbe059a9ab8"
      },
      "execution_count": null,
      "outputs": [
        {
          "output_type": "stream",
          "name": "stdout",
          "text": [
            "Train data:\n",
            "Dataset ImageFolder\n",
            "    Number of datapoints: 28821\n",
            "    Root location: /content/data/Expression/train\n",
            "    StandardTransform\n",
            "Transform: Compose(\n",
            "               ToTensor()\n",
            "               Normalize(mean=[0.485, 0.456, 0.406], std=[0.229, 0.224, 0.225])\n",
            "           )\n",
            "Test data:\n",
            "Dataset ImageFolder\n",
            "    Number of datapoints: 7066\n",
            "    Root location: /content/data/Expression/test\n",
            "    StandardTransform\n",
            "Transform: Compose(\n",
            "               ToTensor()\n",
            "               Normalize(mean=[0.485, 0.456, 0.406], std=[0.229, 0.224, 0.225])\n",
            "           )\n"
          ]
        }
      ]
    },
    {
      "cell_type": "code",
      "source": [
        "# Turn train and test Datasets into DataLoaders\n",
        "from torch.utils.data import DataLoader\n",
        "\n",
        "# Create iterators for the Data loaded using DataLoader module\n",
        "batchSize = 64\n",
        "\n",
        "trainloader = DataLoader(dataset=train_data, batch_size=batchSize, num_workers=1, shuffle=True)\n",
        "testloader = DataLoader(dataset=test_data, batch_size=batchSize, num_workers=1, shuffle=False)\n",
        "\n",
        "train_data_size = len(trainloader.dataset)\n",
        "test_data_size = len(testloader.dataset)\n",
        "\n",
        "print(train_data_size)\n",
        "print(test_data_size)"
      ],
      "metadata": {
        "id": "DtOwo8LQjADI",
        "colab": {
          "base_uri": "https://localhost:8080/"
        },
        "outputId": "d0283a42-13dc-4cb3-8680-9d6e34a3c0ed"
      },
      "execution_count": null,
      "outputs": [
        {
          "output_type": "stream",
          "name": "stdout",
          "text": [
            "28821\n",
            "7066\n"
          ]
        }
      ]
    },
    {
      "cell_type": "code",
      "source": [
        "# Defining the FacialExpressionCNN\n",
        "class FacialExpressionCNN(nn.Module):\n",
        "    def __init__(self):\n",
        "        super(FacialExpressionCNN, self).__init__()\n",
        "\n",
        "        # 1st Convolutional Layer with 3 channel input, 32 channel output and 5x5 kernel size\n",
        "        self.conv1 = nn.Conv2d(3, 32, 5)\n",
        "\n",
        "        # 2nd Convolutional Layer with 32 channel input, 64 channel output and 5x5 kernel size\n",
        "        self.conv2 = nn.Conv2d(32, 64, 5)\n",
        "\n",
        "        # 3rd Convolutional Layer with 64 channel input, 128 channel output and 5x5 kernel size\n",
        "        self.conv3 = nn.Conv2d(64, 128, 5)\n",
        "\n",
        "        # 1st Fully Connected Layer with 512 inputs and 256 output\n",
        "        self.fc1 = nn.Linear(128 * 2 * 2, 256)\n",
        "\n",
        "        # 2nd Fully Connected Layer with 256 inputs and 128 output\n",
        "        self.fc2 = nn.Linear(256, 128)\n",
        "\n",
        "        # 3rd Fully Connected Layer with 128 inputs and 7 output (because 7 total classes)\n",
        "        self.fc3 = nn.Linear(128, 7)\n",
        "\n",
        "        # Max pooling function with kernel_size = 2, stride = 2\n",
        "        self.pool = nn.MaxPool2d(2, 2)\n",
        "\n",
        "        # ReLU activation function for each layers\n",
        "        self.relu = nn.ReLU()\n",
        "\n",
        "\n",
        "    # Each Convolutional Layers will go through ReLU activation function and max pooling\n",
        "    def forward(self, x):\n",
        "        x = self.pool(self.relu(self.conv1(x)))\n",
        "        x = self.pool(self.relu(self.conv2(x)))\n",
        "        x = self.pool(self.relu(self.conv3(x)))\n",
        "        x = x.view(-1, 128 * 2 * 2)\n",
        "        x = self.relu(self.fc1(x))\n",
        "        x = self.relu(self.fc2(x))\n",
        "        x = self.fc3(x)\n",
        "        return x"
      ],
      "metadata": {
        "id": "an0wkT5Dkk2c"
      },
      "execution_count": null,
      "outputs": []
    },
    {
      "cell_type": "code",
      "source": [
        "# Initializing the model using the CNN built above\n",
        "model = FacialExpressionCNN()\n",
        "\n",
        "# Initializing the loss and optimizer\n",
        "criterion = nn.CrossEntropyLoss()\n",
        "optimizer = optim.Adam(model.parameters(), lr=0.001)\n",
        "scheduler = torch.optim.lr_scheduler.StepLR(optimizer, step_size=5, gamma=0.5)\n",
        "\n",
        "# Moving the model to GPU\n",
        "device = torch.device('cuda:0' if torch.cuda.is_available() else 'cpu')\n",
        "model.to(device)\n",
        "\n",
        "# Printing the model summary\n",
        "print(model)"
      ],
      "metadata": {
        "colab": {
          "base_uri": "https://localhost:8080/"
        },
        "id": "Wk7sLF8Lk_ni",
        "outputId": "c13a96ed-7713-48f3-bef8-393b489bff06"
      },
      "execution_count": null,
      "outputs": [
        {
          "output_type": "stream",
          "name": "stdout",
          "text": [
            "FacialExpressionCNN(\n",
            "  (conv1): Conv2d(3, 32, kernel_size=(5, 5), stride=(1, 1))\n",
            "  (conv2): Conv2d(32, 64, kernel_size=(5, 5), stride=(1, 1))\n",
            "  (conv3): Conv2d(64, 128, kernel_size=(5, 5), stride=(1, 1))\n",
            "  (fc1): Linear(in_features=512, out_features=256, bias=True)\n",
            "  (fc2): Linear(in_features=256, out_features=128, bias=True)\n",
            "  (fc3): Linear(in_features=128, out_features=7, bias=True)\n",
            "  (pool): MaxPool2d(kernel_size=2, stride=2, padding=0, dilation=1, ceil_mode=False)\n",
            "  (relu): ReLU()\n",
            ")\n"
          ]
        }
      ]
    },
    {
      "cell_type": "code",
      "source": [
        "# Training and validation metrics\n",
        "train_losses = []\n",
        "val_losses = []\n",
        "train_accuracies = []\n",
        "val_accuracies = []\n",
        "\n",
        "# Training function\n",
        "def train(model, device, train_loader, criterion, optimizer, scheduler, epoch):\n",
        "    model.train()\n",
        "    running_loss = 0.0\n",
        "    correct = 0\n",
        "    for batch_idx, (data, target) in enumerate(train_loader):\n",
        "        data, target = data.to(device), target.to(device)\n",
        "        optimizer.zero_grad()\n",
        "        output = model(data)\n",
        "        loss = criterion(output, target)\n",
        "        loss.backward()\n",
        "        optimizer.step()\n",
        "        running_loss += loss.item()\n",
        "        pred = output.argmax(dim=1, keepdim=True)\n",
        "        correct += pred.eq(target.view_as(pred)).sum().item()\n",
        "    scheduler.step()\n",
        "    avg_loss = running_loss / len(train_loader)\n",
        "    accuracy = 100. * correct / len(train_loader.dataset)\n",
        "    train_losses.append(avg_loss)\n",
        "    train_accuracies.append(accuracy)\n",
        "    print(f'Train Epoch: {epoch}, Loss: {avg_loss:.4f}, Accuracy: {accuracy:.2f}%')\n",
        "\n",
        "# Testing function\n",
        "def test(model, device, test_loader, criterion):\n",
        "    model.eval()\n",
        "    test_loss = 0.0\n",
        "    correct = 0\n",
        "    with torch.no_grad():\n",
        "        for data, target in test_loader:\n",
        "            data, target = data.to(device), target.to(device)\n",
        "            output = model(data)\n",
        "            test_loss += criterion(output, target).item()\n",
        "            pred = output.argmax(dim=1, keepdim=True)\n",
        "            correct += pred.eq(target.view_as(pred)).sum().item()\n",
        "    avg_loss = test_loss / len(test_loader.dataset)\n",
        "    accuracy = 100. * correct / len(test_loader.dataset)\n",
        "    val_losses.append(avg_loss)\n",
        "    val_accuracies.append(accuracy)\n",
        "    print(f'Test set: Average loss: {avg_loss:.4f}, Accuracy: {correct}/{len(test_loader.dataset)} ({accuracy:.2f}%)')"
      ],
      "metadata": {
        "id": "qaK76jL8leX7"
      },
      "execution_count": null,
      "outputs": []
    },
    {
      "cell_type": "code",
      "source": [
        "# Training loop\n",
        "device = torch.device(\"cuda\" if torch.cuda.is_available() else \"cpu\")\n",
        "model.to(device)\n",
        "\n",
        "num_epochs = 25\n",
        "for epoch in range(1, num_epochs + 1):\n",
        "    train(model, device, trainloader, criterion, optimizer, scheduler, epoch)\n",
        "    test(model, device, testloader, criterion)"
      ],
      "metadata": {
        "colab": {
          "base_uri": "https://localhost:8080/"
        },
        "id": "l5Tqb0pUnclS",
        "outputId": "d9629855-fdb2-4eb0-b826-c7094dd8c0d5"
      },
      "execution_count": null,
      "outputs": [
        {
          "output_type": "stream",
          "name": "stdout",
          "text": [
            "Train Epoch: 1, Loss: 1.6249, Accuracy: 34.69%\n",
            "Test set: Average loss: 0.0226, Accuracy: 3093/7066 (43.77%)\n",
            "Train Epoch: 2, Loss: 1.3426, Accuracy: 48.04%\n",
            "Test set: Average loss: 0.0198, Accuracy: 3673/7066 (51.98%)\n",
            "Train Epoch: 3, Loss: 1.2044, Accuracy: 54.05%\n",
            "Test set: Average loss: 0.0194, Accuracy: 3721/7066 (52.66%)\n",
            "Train Epoch: 4, Loss: 1.0949, Accuracy: 58.39%\n",
            "Test set: Average loss: 0.0184, Accuracy: 3989/7066 (56.45%)\n",
            "Train Epoch: 5, Loss: 0.9961, Accuracy: 62.36%\n",
            "Test set: Average loss: 0.0186, Accuracy: 3967/7066 (56.14%)\n",
            "Train Epoch: 6, Loss: 0.8949, Accuracy: 66.24%\n",
            "Test set: Average loss: 0.0194, Accuracy: 3975/7066 (56.26%)\n",
            "Train Epoch: 7, Loss: 0.7832, Accuracy: 70.85%\n",
            "Test set: Average loss: 0.0191, Accuracy: 4029/7066 (57.02%)\n",
            "Train Epoch: 8, Loss: 0.6715, Accuracy: 75.22%\n",
            "Test set: Average loss: 0.0212, Accuracy: 4069/7066 (57.59%)\n",
            "Train Epoch: 9, Loss: 0.5604, Accuracy: 79.48%\n",
            "Test set: Average loss: 0.0228, Accuracy: 4016/7066 (56.84%)\n",
            "Train Epoch: 10, Loss: 0.4557, Accuracy: 83.94%\n",
            "Test set: Average loss: 0.0248, Accuracy: 4042/7066 (57.20%)\n",
            "Train Epoch: 11, Loss: 0.3617, Accuracy: 87.27%\n",
            "Test set: Average loss: 0.0284, Accuracy: 4051/7066 (57.33%)\n",
            "Train Epoch: 12, Loss: 0.2861, Accuracy: 90.21%\n",
            "Test set: Average loss: 0.0308, Accuracy: 3993/7066 (56.51%)\n",
            "Train Epoch: 13, Loss: 0.2165, Accuracy: 93.03%\n",
            "Test set: Average loss: 0.0364, Accuracy: 3995/7066 (56.54%)\n",
            "Train Epoch: 14, Loss: 0.1618, Accuracy: 95.02%\n",
            "Test set: Average loss: 0.0402, Accuracy: 3973/7066 (56.23%)\n",
            "Train Epoch: 15, Loss: 0.1232, Accuracy: 96.57%\n",
            "Test set: Average loss: 0.0436, Accuracy: 3951/7066 (55.92%)\n",
            "Train Epoch: 16, Loss: 0.0902, Accuracy: 97.61%\n",
            "Test set: Average loss: 0.0480, Accuracy: 3967/7066 (56.14%)\n",
            "Train Epoch: 17, Loss: 0.0669, Accuracy: 98.44%\n",
            "Test set: Average loss: 0.0517, Accuracy: 3964/7066 (56.10%)\n",
            "Train Epoch: 18, Loss: 0.0517, Accuracy: 98.84%\n",
            "Test set: Average loss: 0.0561, Accuracy: 3964/7066 (56.10%)\n",
            "Train Epoch: 19, Loss: 0.0414, Accuracy: 99.15%\n",
            "Test set: Average loss: 0.0587, Accuracy: 3975/7066 (56.26%)\n",
            "Train Epoch: 20, Loss: 0.0375, Accuracy: 99.27%\n",
            "Test set: Average loss: 0.0606, Accuracy: 3982/7066 (56.35%)\n",
            "Train Epoch: 21, Loss: 0.0276, Accuracy: 99.45%\n",
            "Test set: Average loss: 0.0631, Accuracy: 3979/7066 (56.31%)\n",
            "Train Epoch: 22, Loss: 0.0251, Accuracy: 99.55%\n",
            "Test set: Average loss: 0.0637, Accuracy: 3941/7066 (55.77%)\n",
            "Train Epoch: 23, Loss: 0.0225, Accuracy: 99.57%\n",
            "Test set: Average loss: 0.0669, Accuracy: 3988/7066 (56.44%)\n",
            "Train Epoch: 24, Loss: 0.0203, Accuracy: 99.58%\n",
            "Test set: Average loss: 0.0673, Accuracy: 3995/7066 (56.54%)\n",
            "Train Epoch: 25, Loss: 0.0186, Accuracy: 99.58%\n",
            "Test set: Average loss: 0.0699, Accuracy: 3963/7066 (56.09%)\n"
          ]
        }
      ]
    },
    {
      "cell_type": "code",
      "source": [
        "# Plotting the loss and accuracy curves\n",
        "epochs = range(1, num_epochs + 1)\n",
        "\n",
        "plt.figure(figsize=(12, 4))\n",
        "\n",
        "plt.subplot(1, 2, 1)\n",
        "plt.plot(epochs, train_losses, label='Training Loss')\n",
        "plt.plot(epochs, val_losses, label='Validation Loss')\n",
        "plt.title('Loss Curve')\n",
        "plt.xlabel('Epochs')\n",
        "plt.ylabel('Loss')\n",
        "plt.legend()\n",
        "\n",
        "plt.subplot(1, 2, 2)\n",
        "plt.plot(epochs, train_accuracies, label='Training Accuracy')\n",
        "plt.plot(epochs, val_accuracies, label='Validation Accuracy')\n",
        "plt.title('Accuracy Curve')\n",
        "plt.xlabel('Epochs')\n",
        "plt.ylabel('Accuracy (%)')\n",
        "plt.legend()\n",
        "\n",
        "plt.show()"
      ],
      "metadata": {
        "id": "q4B0cQMQne0o",
        "colab": {
          "base_uri": "https://localhost:8080/",
          "height": 410
        },
        "outputId": "913adf7d-aba4-42c2-e060-40b1f64c6ebc"
      },
      "execution_count": null,
      "outputs": [
        {
          "output_type": "display_data",
          "data": {
            "text/plain": [
              "<Figure size 1200x400 with 2 Axes>"
            ],
            "image/png": "[encoded data removed]"
          },
          "metadata": {}
        }
      ]
    }
  ]
}