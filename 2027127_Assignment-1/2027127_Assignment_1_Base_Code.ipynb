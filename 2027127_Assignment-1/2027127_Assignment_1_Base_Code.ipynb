{
  "nbformat": 4,
  "nbformat_minor": 0,
  "metadata": {
    "colab": {
      "provenance": [],
      "gpuType": "T4"
    },
    "kernelspec": {
      "name": "python3",
      "display_name": "Python 3"
    },
    "language_info": {
      "name": "python"
    },
    "accelerator": "GPU"
  },
  "cells": [
    {
      "cell_type": "code",
      "execution_count": null,
      "metadata": {
        "id": "6aDnACV4fGCI"
      },
      "outputs": [],
      "source": [
        "import os\n",
        "\n",
        "# Importing numpy for linear algebra library\n",
        "import numpy as np\n",
        "\n",
        "# Importing matplotlib for graph plotting\n",
        "import matplotlib.pyplot as plt\n",
        "\n",
        "# Importing all torchvision required for training such as optimizer and transform\n",
        "import torch\n",
        "import torch.nn as nn\n",
        "import torch.optim as optim\n",
        "import torchvision\n",
        "import torchvision.transforms as transforms"
      ]
    },
    {
      "cell_type": "code",
      "source": [
        "# Importing zipfile to unzip dataset\n",
        "import zipfile\n",
        "from pathlib import Path\n",
        "\n",
        "# Setup path to data folder\n",
        "data_path = Path(\"data/\")\n",
        "image_path = data_path / \"Expression\" #name of the folder we want to unzip to\n",
        "\n",
        "# If the image folder doesn't exist, create new file...\n",
        "if image_path.is_dir():\n",
        "    print(f\"{image_path} directory exists.\")\n",
        "else:\n",
        "    print(f\"Did not find {image_path} directory, creating one...\")\n",
        "    image_path.mkdir(parents=True, exist_ok=True)\n",
        "\n",
        "# Unzip Expression data\n",
        "with zipfile.ZipFile(\"/content/data/Expression/Expression.zip\", \"r\") as zip_ref:\n",
        "        print(\"Unzipping Expression data...\")\n",
        "        zip_ref.extractall(image_path)"
      ],
      "metadata": {
        "id": "JXUpU1mMfZW1",
        "colab": {
          "base_uri": "https://localhost:8080/"
        },
        "outputId": "bfeaf556-a54f-4f11-fec9-9bbb60a8ceb6"
      },
      "execution_count": null,
      "outputs": [
        {
          "output_type": "stream",
          "name": "stdout",
          "text": [
            "data/Expression directory exists.\n",
            "Unzipping Expression data...\n"
          ]
        }
      ]
    },
    {
      "cell_type": "code",
      "source": [
        "image_path = data_path / \"Expression\"\n",
        "\n",
        "# Walkthrough the data to check the length of each directories\n",
        "def walk_through_dir(dir_path):\n",
        "  \"\"\"\n",
        "  Walks through dir_path returning its contents.\n",
        "  Args:\n",
        "    dir_path (str or pathlib.Path): target directory\n",
        "\n",
        "  Returns:\n",
        "    A print out of:\n",
        "      number of subdiretories in dir_path\n",
        "      number of images (files) in each subdirectory\n",
        "      name of each subdirectory\n",
        "  \"\"\"\n",
        "  for dirpath, dirnames, filenames in os.walk(dir_path):\n",
        "    print(f\"There are {len(dirnames)} directories and {len(filenames)} images in '{dirpath}'.\")\n",
        "\n",
        "walk_through_dir(image_path)"
      ],
      "metadata": {
        "id": "rk6BKy11hh2A",
        "colab": {
          "base_uri": "https://localhost:8080/"
        },
        "outputId": "aeee8be7-6ce6-4703-a1ff-4115d4eaec8e"
      },
      "execution_count": null,
      "outputs": [
        {
          "output_type": "stream",
          "name": "stdout",
          "text": [
            "There are 2 directories and 1 images in 'data/Expression'.\n",
            "There are 7 directories and 0 images in 'data/Expression/test'.\n",
            "There are 0 directories and 797 images in 'data/Expression/test/surprise'.\n",
            "There are 0 directories and 1825 images in 'data/Expression/test/happy'.\n",
            "There are 0 directories and 1216 images in 'data/Expression/test/neutral'.\n",
            "There are 0 directories and 111 images in 'data/Expression/test/disgust'.\n",
            "There are 0 directories and 960 images in 'data/Expression/test/angry'.\n",
            "There are 0 directories and 1018 images in 'data/Expression/test/fear'.\n",
            "There are 0 directories and 1139 images in 'data/Expression/test/sad'.\n",
            "There are 7 directories and 0 images in 'data/Expression/train'.\n",
            "There are 0 directories and 3205 images in 'data/Expression/train/surprise'.\n",
            "There are 0 directories and 7164 images in 'data/Expression/train/happy'.\n",
            "There are 0 directories and 4982 images in 'data/Expression/train/neutral'.\n",
            "There are 0 directories and 436 images in 'data/Expression/train/disgust'.\n",
            "There are 0 directories and 3993 images in 'data/Expression/train/angry'.\n",
            "There are 0 directories and 4103 images in 'data/Expression/train/fear'.\n",
            "There are 0 directories and 4938 images in 'data/Expression/train/sad'.\n",
            "There are 2 directories and 1 images in 'data/Expression'.\n",
            "There are 7 directories and 0 images in 'data/Expression/test'.\n",
            "There are 0 directories and 797 images in 'data/Expression/test/surprise'.\n",
            "There are 0 directories and 1825 images in 'data/Expression/test/happy'.\n",
            "There are 0 directories and 1216 images in 'data/Expression/test/neutral'.\n",
            "There are 0 directories and 111 images in 'data/Expression/test/disgust'.\n",
            "There are 0 directories and 960 images in 'data/Expression/test/angry'.\n",
            "There are 0 directories and 1018 images in 'data/Expression/test/fear'.\n",
            "There are 0 directories and 1139 images in 'data/Expression/test/sad'.\n",
            "There are 7 directories and 0 images in 'data/Expression/train'.\n",
            "There are 0 directories and 3205 images in 'data/Expression/train/surprise'.\n",
            "There are 0 directories and 7164 images in 'data/Expression/train/happy'.\n",
            "There are 0 directories and 4982 images in 'data/Expression/train/neutral'.\n",
            "There are 0 directories and 436 images in 'data/Expression/train/disgust'.\n",
            "There are 0 directories and 3993 images in 'data/Expression/train/angry'.\n",
            "There are 0 directories and 4103 images in 'data/Expression/train/fear'.\n",
            "There are 0 directories and 4938 images in 'data/Expression/train/sad'.\n"
          ]
        }
      ]
    },
    {
      "cell_type": "code",
      "source": [
        "from PIL import Image\n",
        "import random\n",
        "\n",
        "# Set seed\n",
        "random.seed(42)\n",
        "\n",
        "# 1. Get all image paths\n",
        "image_path_list = list(image_path.glob(\"*/*/*.jpg\"))\n",
        "\n",
        "# 2. Get random image path\n",
        "random_image_path = random.choice(image_path_list)\n",
        "\n",
        "# 3. Get image class from path name (the image class is the name of the directory where the image is stored)\n",
        "image_class = random_image_path.parent.stem\n",
        "\n",
        "# 4. Open image\n",
        "img = Image.open(random_image_path)\n",
        "\n",
        "# Turn the image into an array\n",
        "img_as_array = np.asarray(img)\n",
        "\n",
        "# Plot the image with matplotlib\n",
        "plt.figure(figsize=(10, 7))\n",
        "plt.imshow(img_as_array)\n",
        "plt.title(f\"Image class: {image_class} | Image shape: {img_as_array.shape} -> [height, width]\")\n",
        "plt.axis(False);"
      ],
      "metadata": {
        "colab": {
          "base_uri": "https://localhost:8080/",
          "height": 1000
        },
        "id": "CjWshA9bpp_z",
        "outputId": "5ee45857-53a8-4173-8e07-247c57ec889d"
      },
      "execution_count": null,
      "outputs": [
        {
          "output_type": "display_data",
          "data": {
            "text/plain": [
              "<Figure size 1000x700 with 1 Axes>"
            ],
            "image/png": "[encoded data removed]"
          },
          "metadata": {}
        },
        {
          "output_type": "display_data",
          "data": {
            "text/plain": [
              "<Figure size 1000x700 with 1 Axes>"
            ],
            "image/png": "[encoded data removed]"
          },
          "metadata": {}
        }
      ]
    },
    {
      "cell_type": "code",
      "source": [
        "# Image transformation changing to tensor and normalize using mean and standard deviation from imageNet dataset\n",
        "data_transform = transforms.Compose(\n",
        "    [transforms.ToTensor(),\n",
        "     transforms.Normalize([0.485, 0.456, 0.406],\n",
        "                             [0.229, 0.224, 0.225])])"
      ],
      "metadata": {
        "id": "FXW0wCdfh9Iu"
      },
      "execution_count": null,
      "outputs": []
    },
    {
      "cell_type": "code",
      "source": [
        "# Use torchvision.datasets.ImageFolder to create dataset(s)\n",
        "from torchvision import datasets\n",
        "\n",
        "# Setup train and testing paths\n",
        "train_dir = image_path / \"/content/data/Expression/train\"\n",
        "test_dir = image_path / \"/content/data/Expression/test\"\n",
        "\n",
        "\n",
        "train_data = datasets.ImageFolder(root=train_dir, # target folder of images\n",
        "                                  transform=data_transform, # transforms to perform on data (images)\n",
        "                                  target_transform=None) # transforms to perform on labels (if necessary)\n",
        "\n",
        "test_data = datasets.ImageFolder(root=test_dir,\n",
        "                                 transform=data_transform)\n",
        "\n",
        "print(f\"Train data:\\n{train_data}\\nTest data:\\n{test_data}\")"
      ],
      "metadata": {
        "id": "oi_AOykIigJr",
        "colab": {
          "base_uri": "https://localhost:8080/"
        },
        "outputId": "c8dc2f70-d33f-4c48-e0a1-1191c154ecbf"
      },
      "execution_count": null,
      "outputs": [
        {
          "output_type": "stream",
          "name": "stdout",
          "text": [
            "Train data:\n",
            "Dataset ImageFolder\n",
            "    Number of datapoints: 28821\n",
            "    Root location: /content/data/Expression/train\n",
            "    StandardTransform\n",
            "Transform: Compose(\n",
            "               ToTensor()\n",
            "               Normalize(mean=[0.485, 0.456, 0.406], std=[0.229, 0.224, 0.225])\n",
            "           )\n",
            "Test data:\n",
            "Dataset ImageFolder\n",
            "    Number of datapoints: 7066\n",
            "    Root location: /content/data/Expression/test\n",
            "    StandardTransform\n",
            "Transform: Compose(\n",
            "               ToTensor()\n",
            "               Normalize(mean=[0.485, 0.456, 0.406], std=[0.229, 0.224, 0.225])\n",
            "           )\n",
            "Train data:\n",
            "Dataset ImageFolder\n",
            "    Number of datapoints: 28821\n",
            "    Root location: /content/data/Expression/train\n",
            "    StandardTransform\n",
            "Transform: Compose(\n",
            "               ToTensor()\n",
            "               Normalize(mean=[0.485, 0.456, 0.406], std=[0.229, 0.224, 0.225])\n",
            "           )\n",
            "Test data:\n",
            "Dataset ImageFolder\n",
            "    Number of datapoints: 7066\n",
            "    Root location: /content/data/Expression/test\n",
            "    StandardTransform\n",
            "Transform: Compose(\n",
            "               ToTensor()\n",
            "               Normalize(mean=[0.485, 0.456, 0.406], std=[0.229, 0.224, 0.225])\n",
            "           )\n"
          ]
        }
      ]
    },
    {
      "cell_type": "code",
      "source": [
        "# Turn train and test Datasets into DataLoaders\n",
        "from torch.utils.data import DataLoader\n",
        "\n",
        "# Create iterators for the Data loaded using DataLoader module\n",
        "batchSize = 64\n",
        "\n",
        "trainloader = DataLoader(dataset=train_data, batch_size=batchSize, num_workers=1, shuffle=True)\n",
        "testloader = DataLoader(dataset=test_data, batch_size=batchSize, num_workers=1, shuffle=False)\n",
        "\n",
        "train_data_size = len(trainloader.dataset)\n",
        "test_data_size = len(testloader.dataset)\n",
        "\n",
        "print(train_data_size)\n",
        "print(test_data_size)"
      ],
      "metadata": {
        "id": "DtOwo8LQjADI",
        "colab": {
          "base_uri": "https://localhost:8080/"
        },
        "outputId": "5e09bc0d-3ecb-442a-8d9f-f8f41031d9ae"
      },
      "execution_count": null,
      "outputs": [
        {
          "output_type": "stream",
          "name": "stdout",
          "text": [
            "28821\n",
            "7066\n",
            "28821\n",
            "7066\n"
          ]
        }
      ]
    },
    {
      "cell_type": "code",
      "source": [
        "# Defining the FacialExpressionCNN\n",
        "class FacialExpressionCNN(nn.Module):\n",
        "    def __init__(self):\n",
        "        super(FacialExpressionCNN, self).__init__()\n",
        "\n",
        "        # 1st Convolutional Layer with 3 channel input, 32 channel output and 5x5 kernel size\n",
        "        self.conv1 = nn.Conv2d(3, 32, 5)\n",
        "\n",
        "        # 2nd Convolutional Layer with 32 channel input, 64 channel output and 5x5 kernel size\n",
        "        self.conv2 = nn.Conv2d(32, 64, 5)\n",
        "\n",
        "        # 3rd Convolutional Layer with 64 channel input, 128 channel output and 5x5 kernel size\n",
        "        self.conv3 = nn.Conv2d(64, 128, 5)\n",
        "\n",
        "        # 1st Fully Connected Layer with 512 inputs and 256 output\n",
        "        self.fc1 = nn.Linear(128 * 2 * 2, 256)\n",
        "\n",
        "        # 2nd Fully Connected Layer with 256 inputs and 128 output\n",
        "        self.fc2 = nn.Linear(256, 128)\n",
        "\n",
        "        # 3rd Fully Connected Layer with 128 inputs and 7 output (because 7 total classes)\n",
        "        self.fc3 = nn.Linear(128, 7)\n",
        "\n",
        "        # Max pooling function with kernel_size = 2, stride = 2\n",
        "        self.pool = nn.MaxPool2d(2, 2)\n",
        "\n",
        "        # ReLU activation function for each layers\n",
        "        self.relu = nn.ReLU()\n",
        "\n",
        "\n",
        "    # Each Convolutional Layers will go through ReLU activation function and max pooling\n",
        "    def forward(self, x):\n",
        "        x = self.pool(self.relu(self.conv1(x)))\n",
        "        x = self.pool(self.relu(self.conv2(x)))\n",
        "        x = self.pool(self.relu(self.conv3(x)))\n",
        "        x = x.view(-1, 128 * 2 * 2)\n",
        "        x = self.relu(self.fc1(x))\n",
        "        x = self.relu(self.fc2(x))\n",
        "        x = self.fc3(x)\n",
        "        return x"
      ],
      "metadata": {
        "id": "an0wkT5Dkk2c"
      },
      "execution_count": null,
      "outputs": []
    },
    {
      "cell_type": "code",
      "source": [
        "# Initializing the model using the CNN built above\n",
        "model = FacialExpressionCNN()\n",
        "\n",
        "# Initializing the loss and optimizer\n",
        "criterion = nn.CrossEntropyLoss()\n",
        "optimizer = optim.Adam(model.parameters(), lr=0.001)\n",
        "scheduler = torch.optim.lr_scheduler.StepLR(optimizer, step_size=5, gamma=0.5)\n",
        "\n",
        "# Moving the model to GPU\n",
        "device = torch.device('cuda:0' if torch.cuda.is_available() else 'cpu')\n",
        "model.to(device)\n",
        "\n",
        "# Printing the model summary\n",
        "print(model)"
      ],
      "metadata": {
        "colab": {
          "base_uri": "https://localhost:8080/"
        },
        "id": "Wk7sLF8Lk_ni",
        "outputId": "d624c0f9-9a98-47e2-ba5f-a40e154f8e60"
      },
      "execution_count": null,
      "outputs": [
        {
          "output_type": "stream",
          "name": "stdout",
          "text": [
            "FacialExpressionCNN(\n",
            "  (conv1): Conv2d(3, 32, kernel_size=(5, 5), stride=(1, 1))\n",
            "  (conv2): Conv2d(32, 64, kernel_size=(5, 5), stride=(1, 1))\n",
            "  (conv3): Conv2d(64, 128, kernel_size=(5, 5), stride=(1, 1))\n",
            "  (fc1): Linear(in_features=512, out_features=256, bias=True)\n",
            "  (fc2): Linear(in_features=256, out_features=128, bias=True)\n",
            "  (fc3): Linear(in_features=128, out_features=7, bias=True)\n",
            "  (pool): MaxPool2d(kernel_size=2, stride=2, padding=0, dilation=1, ceil_mode=False)\n",
            "  (relu): ReLU()\n",
            ")\n",
            "FacialExpressionCNN(\n",
            "  (conv1): Conv2d(3, 32, kernel_size=(5, 5), stride=(1, 1))\n",
            "  (conv2): Conv2d(32, 64, kernel_size=(5, 5), stride=(1, 1))\n",
            "  (conv3): Conv2d(64, 128, kernel_size=(5, 5), stride=(1, 1))\n",
            "  (fc1): Linear(in_features=512, out_features=256, bias=True)\n",
            "  (fc2): Linear(in_features=256, out_features=128, bias=True)\n",
            "  (fc3): Linear(in_features=128, out_features=7, bias=True)\n",
            "  (pool): MaxPool2d(kernel_size=2, stride=2, padding=0, dilation=1, ceil_mode=False)\n",
            "  (relu): ReLU()\n",
            ")\n"
          ]
        }
      ]
    },
    {
      "cell_type": "code",
      "source": [
        "import time # to calculate training time\n",
        "\n",
        "def train_and_validate(model, loss_criterion, optimizer, epochs=25):\n",
        "    '''\n",
        "    Function to train and validate\n",
        "    Parameters\n",
        "        :param model: Model to train and validate\n",
        "        :param loss_criterion: Loss Criterion to minimize\n",
        "        :param optimizer: Optimizer for computing gradients\n",
        "        :param epochs: Number of epochs (default=25)\n",
        "\n",
        "    Returns\n",
        "        model: Trained Model with best validation accuracy\n",
        "        history: (dict object): Having training loss, accuracy and validation loss, accuracy\n",
        "    '''\n",
        "\n",
        "    start = time.time()\n",
        "    history = []\n",
        "    best_acc = 0.0\n",
        "\n",
        "    for epoch in range(epochs):\n",
        "        epoch_start = time.time()\n",
        "        print(\"Epoch: {}/{}\".format(epoch+1, epochs))\n",
        "\n",
        "        # Set to training mode\n",
        "        model.train()\n",
        "\n",
        "        # Loss and Accuracy within the epoch\n",
        "        train_loss = 0.0\n",
        "        train_acc = 0.0\n",
        "\n",
        "        valid_loss = 0.0\n",
        "        valid_acc = 0.0\n",
        "\n",
        "        for i, (inputs, labels) in enumerate(trainloader):\n",
        "\n",
        "            inputs = inputs.to(device)\n",
        "            labels = labels.to(device)\n",
        "\n",
        "            # Clean existing gradients\n",
        "            optimizer.zero_grad()\n",
        "\n",
        "            # Forward pass - compute outputs on input data using the model\n",
        "            outputs = model(inputs)\n",
        "\n",
        "            # Compute loss\n",
        "            loss = loss_criterion(outputs, labels)\n",
        "\n",
        "            # Backpropagate the gradients\n",
        "            loss.backward()\n",
        "\n",
        "            # Update the parameters\n",
        "            optimizer.step()\n",
        "\n",
        "\n",
        "            # Compute the total loss for the batch and add it to train_loss\n",
        "            train_loss += loss.item() * inputs.size(0)\n",
        "\n",
        "            # Compute the accuracy\n",
        "            ret, predictions = torch.max(outputs.data, 1)\n",
        "            correct_counts = predictions.eq(labels.data.view_as(predictions))\n",
        "\n",
        "            # Convert correct_counts to float and then compute the mean\n",
        "            acc = torch.mean(correct_counts.type(torch.FloatTensor))\n",
        "\n",
        "            # Compute total accuracy in the whole batch and add to train_acc\n",
        "            train_acc += acc.item() * inputs.size(0)\n",
        "\n",
        "            #print(\"Batch number: {:03d}, Training: Loss: {:.4f}, Accuracy: {:.4f}\".format(i, loss.item(), acc.item()))\n",
        "\n",
        "        # Validation - No gradient tracking needed\n",
        "        with torch.no_grad():\n",
        "\n",
        "            # Set to evaluation mode\n",
        "            model.eval()\n",
        "\n",
        "            # Validation loop\n",
        "            for j, (inputs, labels) in enumerate(testloader):\n",
        "                inputs = inputs.to(device)\n",
        "                labels = labels.to(device)\n",
        "\n",
        "                # Forward pass - compute outputs on input data using the model\n",
        "                outputs = model(inputs)\n",
        "\n",
        "                # Compute loss\n",
        "                loss = loss_criterion(outputs, labels)\n",
        "\n",
        "                # Compute the total loss for the batch and add it to valid_loss\n",
        "                valid_loss += loss.item() * inputs.size(0)\n",
        "\n",
        "                # Calculate validation accuracy\n",
        "                ret, predictions = torch.max(outputs.data, 1)\n",
        "                correct_counts = predictions.eq(labels.data.view_as(predictions))\n",
        "\n",
        "                # Convert correct_counts to float and then compute the mean\n",
        "                acc = torch.mean(correct_counts.type(torch.FloatTensor))\n",
        "\n",
        "                # Compute total accuracy in the whole batch and add to valid_acc\n",
        "                valid_acc += acc.item() * inputs.size(0)\n",
        "\n",
        "                #print(\"Validation Batch number: {:03d}, Validation: Loss: {:.4f}, Accuracy: {:.4f}\".format(j, loss.item(), acc.item()))\n",
        "\n",
        "        # Find average training loss and training accuracy\n",
        "        avg_train_loss = train_loss/train_data_size\n",
        "        avg_train_acc = train_acc/train_data_size\n",
        "\n",
        "        # Find average training loss and training accuracy\n",
        "        avg_test_loss = valid_loss/test_data_size\n",
        "        avg_test_acc = valid_acc/test_data_size\n",
        "\n",
        "        history.append([avg_train_loss, avg_test_loss, avg_train_acc, avg_test_acc])\n",
        "\n",
        "        epoch_end = time.time()\n",
        "\n",
        "        print(\"Epoch : {:03d}, Training: Loss: {:.4f}, Accuracy: {:.4f}%, \\n\\t\\tValidation : Loss : {:.4f}, Accuracy: {:.4f}%, Time: {:.4f}s\".format(epoch, avg_train_loss, avg_train_acc*100, avg_test_loss, avg_test_acc*100, epoch_end-epoch_start))\n",
        "\n",
        "        # Save if the model has best accuracy till now\n",
        "        torch.save(model, 'best_model'+str(epoch)+'.pt')\n",
        "\n",
        "    return model, history"
      ],
      "metadata": {
        "id": "qaK76jL8leX7"
      },
      "execution_count": null,
      "outputs": []
    },
    {
      "cell_type": "code",
      "source": [
        "# 4. Train the model for 25 epochs\n",
        "\n",
        "num_epochs = 25\n",
        "trained_model, history = train_and_validate(model, criterion, optimizer, num_epochs)"
      ],
      "metadata": {
        "colab": {
          "base_uri": "https://localhost:8080/"
        },
        "id": "l5Tqb0pUnclS",
        "outputId": "530bfd8f-4d72-471e-b930-dce066f3c7a3"
      },
      "execution_count": null,
      "outputs": [
        {
          "output_type": "stream",
          "name": "stdout",
          "text": [
            "Epoch: 1/25\n",
            "Epoch : 000, Training: Loss: 1.6516, Accuracy: 33.5172%, \n",
            "\t\tValidation : Loss : 1.4441, Accuracy: 45.5986%, Time: 21.6673s\n",
            "Epoch: 2/25\n",
            "Epoch : 001, Training: Loss: 1.3609, Accuracy: 47.0768%, \n",
            "\t\tValidation : Loss : 1.2871, Accuracy: 50.5802%, Time: 21.0599s\n",
            "Epoch: 3/25\n",
            "Epoch : 002, Training: Loss: 1.2182, Accuracy: 53.0412%, \n",
            "\t\tValidation : Loss : 1.2933, Accuracy: 50.9199%, Time: 22.7076s\n",
            "Epoch: 4/25\n",
            "Epoch : 003, Training: Loss: 1.1244, Accuracy: 57.0626%, \n",
            "\t\tValidation : Loss : 1.2059, Accuracy: 54.3306%, Time: 21.4827s\n",
            "Epoch: 5/25\n",
            "Epoch : 004, Training: Loss: 1.0437, Accuracy: 60.3969%, \n",
            "\t\tValidation : Loss : 1.1906, Accuracy: 55.3496%, Time: 21.5556s\n",
            "Epoch: 6/25\n",
            "Epoch : 005, Training: Loss: 0.8969, Accuracy: 66.4724%, \n",
            "\t\tValidation : Loss : 1.1770, Accuracy: 56.6940%, Time: 20.5660s\n",
            "Epoch: 7/25\n",
            "Epoch : 006, Training: Loss: 0.8143, Accuracy: 69.7825%, \n",
            "\t\tValidation : Loss : 1.2244, Accuracy: 55.9157%, Time: 21.5945s\n",
            "Epoch: 8/25\n",
            "Epoch : 007, Training: Loss: 0.7353, Accuracy: 72.9121%, \n",
            "\t\tValidation : Loss : 1.2709, Accuracy: 56.5242%, Time: 20.7858s\n",
            "Epoch: 9/25\n",
            "Epoch : 008, Training: Loss: 0.6636, Accuracy: 75.3027%, \n",
            "\t\tValidation : Loss : 1.3696, Accuracy: 55.3071%, Time: 20.5335s\n",
            "Epoch: 10/25\n",
            "Epoch : 009, Training: Loss: 0.5847, Accuracy: 78.6163%, \n",
            "\t\tValidation : Loss : 1.4800, Accuracy: 55.5618%, Time: 21.8354s\n",
            "Epoch: 11/25\n",
            "Epoch : 010, Training: Loss: 0.4475, Accuracy: 84.2233%, \n",
            "\t\tValidation : Loss : 1.6318, Accuracy: 56.3968%, Time: 21.1184s\n",
            "Epoch: 12/25\n",
            "Epoch : 011, Training: Loss: 0.3875, Accuracy: 86.4994%, \n",
            "\t\tValidation : Loss : 1.6861, Accuracy: 56.6799%, Time: 20.7979s\n",
            "Epoch: 13/25\n",
            "Epoch : 012, Training: Loss: 0.3355, Accuracy: 88.5708%, \n",
            "\t\tValidation : Loss : 1.8725, Accuracy: 56.2270%, Time: 23.2314s\n",
            "Epoch: 14/25\n",
            "Epoch : 013, Training: Loss: 0.2870, Accuracy: 90.5694%, \n",
            "\t\tValidation : Loss : 2.0242, Accuracy: 56.0996%, Time: 21.7241s\n",
            "Epoch: 15/25\n",
            "Epoch : 014, Training: Loss: 0.2439, Accuracy: 92.1134%, \n",
            "\t\tValidation : Loss : 2.2259, Accuracy: 56.1704%, Time: 21.1390s\n",
            "Epoch: 16/25\n",
            "Epoch : 015, Training: Loss: 0.1748, Accuracy: 95.0939%, \n",
            "\t\tValidation : Loss : 2.4264, Accuracy: 56.1987%, Time: 22.0491s\n",
            "Epoch: 17/25\n",
            "Epoch : 016, Training: Loss: 0.1465, Accuracy: 96.0133%, \n",
            "\t\tValidation : Loss : 2.5758, Accuracy: 55.9864%, Time: 22.1454s\n",
            "Epoch: 18/25\n",
            "Epoch : 017, Training: Loss: 0.1274, Accuracy: 96.5477%, \n",
            "\t\tValidation : Loss : 2.7799, Accuracy: 56.4959%, Time: 21.0730s\n",
            "Epoch: 19/25\n",
            "Epoch : 018, Training: Loss: 0.1095, Accuracy: 97.1271%, \n",
            "\t\tValidation : Loss : 2.9303, Accuracy: 56.0855%, Time: 22.2330s\n",
            "Epoch: 20/25\n",
            "Epoch : 019, Training: Loss: 0.0962, Accuracy: 97.6441%, \n",
            "\t\tValidation : Loss : 3.1136, Accuracy: 56.1138%, Time: 21.9049s\n",
            "Epoch: 21/25\n",
            "Epoch : 020, Training: Loss: 0.0708, Accuracy: 98.4352%, \n",
            "\t\tValidation : Loss : 3.2417, Accuracy: 56.1704%, Time: 21.1118s\n",
            "Epoch: 22/25\n",
            "Epoch : 021, Training: Loss: 0.0625, Accuracy: 98.6503%, \n",
            "\t\tValidation : Loss : 3.3704, Accuracy: 56.1845%, Time: 22.0961s\n",
            "Epoch: 23/25\n",
            "Epoch : 022, Training: Loss: 0.0560, Accuracy: 98.8030%, \n",
            "\t\tValidation : Loss : 3.4985, Accuracy: 56.1421%, Time: 22.8697s\n",
            "Epoch: 24/25\n",
            "Epoch : 023, Training: Loss: 0.0511, Accuracy: 99.0007%, \n",
            "\t\tValidation : Loss : 3.5990, Accuracy: 55.7458%, Time: 21.2182s\n",
            "Epoch: 25/25\n",
            "Epoch : 024, Training: Loss: 0.0462, Accuracy: 99.0909%, \n",
            "\t\tValidation : Loss : 3.7237, Accuracy: 55.9157%, Time: 21.0732s\n"
          ]
        }
      ]
    },
    {
      "cell_type": "code",
      "source": [
        "# 5. Analyze the loss curve\n",
        "\n",
        "history = np.array(history)\n",
        "plt.plot(history[:,0:2])\n",
        "plt.legend(['Tr Loss', 'Val Loss'])\n",
        "plt.xlabel('Epoch Number')\n",
        "plt.ylabel('Loss')\n",
        "plt.ylim(0,3)\n",
        "# plt.savefig('loss_curve.png')\n",
        "plt.show()"
      ],
      "metadata": {
        "id": "q4B0cQMQne0o",
        "colab": {
          "base_uri": "https://localhost:8080/",
          "height": 455
        },
        "outputId": "321bf2b6-1dcb-4ac1-ccfd-9f388028f968"
      },
      "execution_count": null,
      "outputs": [
        {
          "output_type": "display_data",
          "data": {
            "text/plain": [
              "<Figure size 640x480 with 1 Axes>"
            ],
            "image/png": "[encoded data removed]"
          },
          "metadata": {}
        }
      ]
    },
    {
      "cell_type": "code",
      "source": [
        "# 6. Analyze the accuracy curve\n",
        "\n",
        "plt.plot(history[:,2:4])\n",
        "plt.legend(['Tr Accuracy', 'Val Accuracy'])\n",
        "plt.xlabel('Epoch Number')\n",
        "plt.ylabel('Accuracy')\n",
        "plt.ylim(0,1)\n",
        "# plt.savefig('accuracy_curve.png')\n",
        "plt.show()"
      ],
      "metadata": {
        "id": "EwIW-T82ng3l",
        "colab": {
          "base_uri": "https://localhost:8080/",
          "height": 455
        },
        "outputId": "fcb2295b-852d-4726-d976-5dd8cad1df3a"
      },
      "execution_count": null,
      "outputs": [
        {
          "output_type": "display_data",
          "data": {
            "text/plain": [
              "<Figure size 640x480 with 1 Axes>"
            ],
            "image/png": "[encoded data removed]"
          },
          "metadata": {}
        }
      ]
    },
    {
      "cell_type": "code",
      "source": [
        "correct = 0\n",
        "total = 0\n",
        "# since we're not training, we don't need to calculate the gradients for our outputs\n",
        "with torch.no_grad():\n",
        "    for data in testloader:\n",
        "#         images, labels = data\n",
        "        images, labels = data[0].to(device), data[1].to(device)\n",
        "        # calculate outputs by running images through the network\n",
        "#         images = images.view(images.size(0), -1)\n",
        "        outputs = model(images)\n",
        "        # the class with the highest energy is what we choose as prediction\n",
        "        _, predicted = torch.max(outputs.data, 1)\n",
        "        total += labels.size(0)\n",
        "        correct += (predicted == labels).sum().item()\n",
        "\n",
        "print(f'Accuracy of the network on the 7066 test images: {100 * correct // total} %')"
      ],
      "metadata": {
        "id": "CKxF2Ou08S8a",
        "colab": {
          "base_uri": "https://localhost:8080/"
        },
        "outputId": "090e726c-0481-4a74-8207-b473b5d7afb6"
      },
      "execution_count": null,
      "outputs": [
        {
          "output_type": "stream",
          "name": "stdout",
          "text": [
            "Accuracy of the network on the 7066 test images: 55 %\n"
          ]
        }
      ]
    }
  ]
}