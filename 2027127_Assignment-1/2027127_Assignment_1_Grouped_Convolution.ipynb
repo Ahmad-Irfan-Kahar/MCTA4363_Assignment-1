{
  "nbformat": 4,
  "nbformat_minor": 0,
  "metadata": {
    "colab": {
      "provenance": [],
      "gpuType": "T4"
    },
    "kernelspec": {
      "name": "python3",
      "display_name": "Python 3"
    },
    "language_info": {
      "name": "python"
    },
    "accelerator": "GPU"
  },
  "cells": [
    {
      "cell_type": "code",
      "execution_count": null,
      "metadata": {
        "id": "6aDnACV4fGCI"
      },
      "outputs": [],
      "source": [
        "import os\n",
        "\n",
        "# Importing numpy for linear algebra library\n",
        "import numpy as np\n",
        "\n",
        "# Importing matplotlib for graph plotting\n",
        "import matplotlib.pyplot as plt\n",
        "\n",
        "# Importing all torchvision required for training such as optimizer and transform\n",
        "import torch\n",
        "import torch.nn as nn\n",
        "import torch.optim as optim\n",
        "import torchvision\n",
        "import torchvision.transforms as transforms"
      ]
    },
    {
      "cell_type": "code",
      "source": [
        "# Importing zipfile to unzip dataset\n",
        "import zipfile\n",
        "from pathlib import Path\n",
        "\n",
        "# Setup path to data folder\n",
        "data_path = Path(\"data/\")\n",
        "image_path = data_path / \"Expression\" #name of the folder we want to unzip to\n",
        "\n",
        "# If the image folder doesn't exist, create new file...\n",
        "if image_path.is_dir():\n",
        "    print(f\"{image_path} directory exists.\")\n",
        "else:\n",
        "    print(f\"Did not find {image_path} directory, creating one...\")\n",
        "    image_path.mkdir(parents=True, exist_ok=True)\n",
        "\n",
        "# Unzip Expression data\n",
        "with zipfile.ZipFile(\"/content/data/Expression/Expression.zip\", \"r\") as zip_ref:\n",
        "        print(\"Unzipping Expression data...\")\n",
        "        zip_ref.extractall(image_path)"
      ],
      "metadata": {
        "id": "JXUpU1mMfZW1",
        "colab": {
          "base_uri": "https://localhost:8080/"
        },
        "outputId": "a24c5001-31ae-4e9a-aae3-e503aa2b8bbc"
      },
      "execution_count": null,
      "outputs": [
        {
          "output_type": "stream",
          "name": "stdout",
          "text": [
            "data/Expression directory exists.\n",
            "Unzipping Expression data...\n"
          ]
        }
      ]
    },
    {
      "cell_type": "code",
      "source": [
        "image_path = data_path / \"Expression\"\n",
        "\n",
        "# Walkthrough the data to check the length of each directories\n",
        "def walk_through_dir(dir_path):\n",
        "  \"\"\"\n",
        "  Walks through dir_path returning its contents.\n",
        "  Args:\n",
        "    dir_path (str or pathlib.Path): target directory\n",
        "\n",
        "  Returns:\n",
        "    A print out of:\n",
        "      number of subdiretories in dir_path\n",
        "      number of images (files) in each subdirectory\n",
        "      name of each subdirectory\n",
        "  \"\"\"\n",
        "  for dirpath, dirnames, filenames in os.walk(dir_path):\n",
        "    print(f\"There are {len(dirnames)} directories and {len(filenames)} images in '{dirpath}'.\")\n",
        "\n",
        "walk_through_dir(image_path)"
      ],
      "metadata": {
        "id": "rk6BKy11hh2A",
        "colab": {
          "base_uri": "https://localhost:8080/"
        },
        "outputId": "4fd7b615-a331-4f21-9456-498818f6f888"
      },
      "execution_count": null,
      "outputs": [
        {
          "output_type": "stream",
          "name": "stdout",
          "text": [
            "There are 2 directories and 1 images in 'data/Expression'.\n",
            "There are 7 directories and 0 images in 'data/Expression/test'.\n",
            "There are 0 directories and 797 images in 'data/Expression/test/surprise'.\n",
            "There are 0 directories and 1825 images in 'data/Expression/test/happy'.\n",
            "There are 0 directories and 1216 images in 'data/Expression/test/neutral'.\n",
            "There are 0 directories and 111 images in 'data/Expression/test/disgust'.\n",
            "There are 0 directories and 960 images in 'data/Expression/test/angry'.\n",
            "There are 0 directories and 1018 images in 'data/Expression/test/fear'.\n",
            "There are 0 directories and 1139 images in 'data/Expression/test/sad'.\n",
            "There are 7 directories and 0 images in 'data/Expression/train'.\n",
            "There are 0 directories and 3205 images in 'data/Expression/train/surprise'.\n",
            "There are 0 directories and 7164 images in 'data/Expression/train/happy'.\n",
            "There are 0 directories and 4982 images in 'data/Expression/train/neutral'.\n",
            "There are 0 directories and 436 images in 'data/Expression/train/disgust'.\n",
            "There are 0 directories and 3993 images in 'data/Expression/train/angry'.\n",
            "There are 0 directories and 4103 images in 'data/Expression/train/fear'.\n",
            "There are 0 directories and 4938 images in 'data/Expression/train/sad'.\n"
          ]
        }
      ]
    },
    {
      "cell_type": "code",
      "source": [
        "from PIL import Image\n",
        "import random\n",
        "\n",
        "# Set seed\n",
        "random.seed(42)\n",
        "\n",
        "# 1. Get all image paths\n",
        "image_path_list = list(image_path.glob(\"*/*/*.jpg\"))\n",
        "\n",
        "# 2. Get random image path\n",
        "random_image_path = random.choice(image_path_list)\n",
        "\n",
        "# 3. Get image class from path name (the image class is the name of the directory where the image is stored)\n",
        "image_class = random_image_path.parent.stem\n",
        "\n",
        "# 4. Open image\n",
        "img = Image.open(random_image_path)\n",
        "\n",
        "# Turn the image into an array\n",
        "img_as_array = np.asarray(img)\n",
        "\n",
        "# Plot the image with matplotlib\n",
        "plt.figure(figsize=(10, 7))\n",
        "plt.imshow(img_as_array)\n",
        "plt.title(f\"Image class: {image_class} | Image shape: {img_as_array.shape} -> [height, width]\")\n",
        "plt.axis(False);"
      ],
      "metadata": {
        "colab": {
          "base_uri": "https://localhost:8080/",
          "height": 598
        },
        "id": "CjWshA9bpp_z",
        "outputId": "ae515c53-1075-4a5c-f607-34fca01d0c90"
      },
      "execution_count": null,
      "outputs": [
        {
          "output_type": "display_data",
          "data": {
            "text/plain": [
              "<Figure size 1000x700 with 1 Axes>"
            ],
            "image/png": "[encoded data removed]"
          },
          "metadata": {}
        }
      ]
    },
    {
      "cell_type": "code",
      "source": [
        "# Image transformation changing to tensor and normalize using mean and standard deviation from imageNet dataset\n",
        "data_transform = transforms.Compose(\n",
        "    [transforms.ToTensor(),\n",
        "     transforms.Normalize([0.485, 0.456, 0.406],\n",
        "                             [0.229, 0.224, 0.225])])"
      ],
      "metadata": {
        "id": "FXW0wCdfh9Iu"
      },
      "execution_count": null,
      "outputs": []
    },
    {
      "cell_type": "code",
      "source": [
        "# Use torchvision.datasets.ImageFolder to create dataset(s)\n",
        "from torchvision import datasets\n",
        "\n",
        "# Setup train and testing paths\n",
        "train_dir = image_path / \"/content/data/Expression/train\"\n",
        "test_dir = image_path / \"/content/data/Expression/test\"\n",
        "\n",
        "\n",
        "train_data = datasets.ImageFolder(root=train_dir, # target folder of images\n",
        "                                  transform=data_transform, # transforms to perform on data (images)\n",
        "                                  target_transform=None) # transforms to perform on labels (if necessary)\n",
        "\n",
        "test_data = datasets.ImageFolder(root=test_dir,\n",
        "                                 transform=data_transform)\n",
        "\n",
        "print(f\"Train data:\\n{train_data}\\nTest data:\\n{test_data}\")"
      ],
      "metadata": {
        "id": "oi_AOykIigJr",
        "colab": {
          "base_uri": "https://localhost:8080/"
        },
        "outputId": "fdc25a8d-0827-4964-89b5-e700b559a0ae"
      },
      "execution_count": null,
      "outputs": [
        {
          "output_type": "stream",
          "name": "stdout",
          "text": [
            "Train data:\n",
            "Dataset ImageFolder\n",
            "    Number of datapoints: 28821\n",
            "    Root location: /content/data/Expression/train\n",
            "    StandardTransform\n",
            "Transform: Compose(\n",
            "               ToTensor()\n",
            "               Normalize(mean=[0.485, 0.456, 0.406], std=[0.229, 0.224, 0.225])\n",
            "           )\n",
            "Test data:\n",
            "Dataset ImageFolder\n",
            "    Number of datapoints: 7066\n",
            "    Root location: /content/data/Expression/test\n",
            "    StandardTransform\n",
            "Transform: Compose(\n",
            "               ToTensor()\n",
            "               Normalize(mean=[0.485, 0.456, 0.406], std=[0.229, 0.224, 0.225])\n",
            "           )\n"
          ]
        }
      ]
    },
    {
      "cell_type": "code",
      "source": [
        "# Turn train and test Datasets into DataLoaders\n",
        "from torch.utils.data import DataLoader\n",
        "\n",
        "# Create iterators for the Data loaded using DataLoader module\n",
        "batchSize = 64\n",
        "\n",
        "trainloader = DataLoader(dataset=train_data, batch_size=batchSize, num_workers=1, shuffle=True)\n",
        "testloader = DataLoader(dataset=test_data, batch_size=batchSize, num_workers=1, shuffle=False)\n",
        "\n",
        "train_data_size = len(trainloader.dataset)\n",
        "test_data_size = len(testloader.dataset)\n",
        "\n",
        "print(train_data_size)\n",
        "print(test_data_size)"
      ],
      "metadata": {
        "id": "DtOwo8LQjADI",
        "colab": {
          "base_uri": "https://localhost:8080/"
        },
        "outputId": "f3889a52-9277-4bad-c476-9cc26d9826dd"
      },
      "execution_count": null,
      "outputs": [
        {
          "output_type": "stream",
          "name": "stdout",
          "text": [
            "28821\n",
            "7066\n"
          ]
        }
      ]
    },
    {
      "cell_type": "code",
      "source": [
        "# Defining the FacialExpressionCNN\n",
        "class FacialExpressionCNN(nn.Module):\n",
        "    def __init__(self):\n",
        "        super(FacialExpressionCNN, self).__init__()\n",
        "\n",
        "        # 1st Convolutional Layer with 3 channel input, 32 channel output and 5x5 kernel size\n",
        "        self.conv1 = nn.Conv2d(3, 33, 5, groups=3)\n",
        "\n",
        "        # 2nd Convolutional Layer with 32 channel input, 64 channel output and 5x5 kernel size\n",
        "        self.conv2 = nn.Conv2d(33, 66, 5, groups=3)\n",
        "\n",
        "        # 3rd Convolutional Layer with 64 channel input, 128 channel output and 5x5 kernel size\n",
        "        self.conv3 = nn.Conv2d(66, 132, 5, groups=3)\n",
        "\n",
        "        # 1st Fully Connected Layer with 512 inputs and 256 output\n",
        "        self.fc1 = nn.Linear(132 * 2 * 2, 256)\n",
        "\n",
        "        # 2nd Fully Connected Layer with 256 inputs and 128 output\n",
        "        self.fc2 = nn.Linear(256, 128)\n",
        "\n",
        "        # 3rd Fully Connected Layer with 128 inputs and 7 output (because 7 total classes)\n",
        "        self.fc3 = nn.Linear(128, 7)\n",
        "\n",
        "        # Max pooling function with kernel_size = 2, stride = 2\n",
        "        self.pool = nn.MaxPool2d(2, 2)\n",
        "\n",
        "        # ReLU activation function for each layers\n",
        "        self.relu = nn.ReLU()\n",
        "\n",
        "\n",
        "    # Each Convolutional Layers will go through ReLU activation function and max pooling\n",
        "    def forward(self, x):\n",
        "        x = self.pool(self.relu(self.conv1(x)))\n",
        "        x = self.pool(self.relu(self.conv2(x)))\n",
        "        x = self.pool(self.relu(self.conv3(x)))\n",
        "        x = x.view(-1, 132 * 2 * 2)\n",
        "        x = self.relu(self.fc1(x))\n",
        "        x = self.relu(self.fc2(x))\n",
        "        x = self.fc3(x)\n",
        "        return x"
      ],
      "metadata": {
        "id": "an0wkT5Dkk2c"
      },
      "execution_count": null,
      "outputs": []
    },
    {
      "cell_type": "code",
      "source": [
        "# Initializing the model using the CNN built above\n",
        "model = FacialExpressionCNN()\n",
        "\n",
        "# Initializing the loss and optimizer\n",
        "criterion = nn.CrossEntropyLoss()\n",
        "optimizer = optim.Adam(model.parameters(), lr=0.001)\n",
        "\n",
        "# Moving the model to GPU\n",
        "device = torch.device('cuda:0' if torch.cuda.is_available() else 'cpu')\n",
        "model.to(device)\n",
        "\n",
        "# Printing the model summary\n",
        "print(model)"
      ],
      "metadata": {
        "colab": {
          "base_uri": "https://localhost:8080/"
        },
        "id": "Wk7sLF8Lk_ni",
        "outputId": "95de982b-e7e7-4c9b-ccce-17b14524adbb"
      },
      "execution_count": null,
      "outputs": [
        {
          "output_type": "stream",
          "name": "stdout",
          "text": [
            "FacialExpressionCNN(\n",
            "  (conv1): Conv2d(3, 33, kernel_size=(5, 5), stride=(1, 1), groups=3)\n",
            "  (conv2): Conv2d(33, 66, kernel_size=(5, 5), stride=(1, 1), groups=3)\n",
            "  (conv3): Conv2d(66, 132, kernel_size=(5, 5), stride=(1, 1), groups=3)\n",
            "  (fc1): Linear(in_features=528, out_features=256, bias=True)\n",
            "  (fc2): Linear(in_features=256, out_features=128, bias=True)\n",
            "  (fc3): Linear(in_features=128, out_features=7, bias=True)\n",
            "  (pool): MaxPool2d(kernel_size=2, stride=2, padding=0, dilation=1, ceil_mode=False)\n",
            "  (relu): ReLU()\n",
            ")\n"
          ]
        }
      ]
    },
    {
      "cell_type": "code",
      "source": [
        "import time # to calculate training time\n",
        "\n",
        "def train_and_validate(model, loss_criterion, optimizer, epochs=25):\n",
        "    '''\n",
        "    Function to train and validate\n",
        "    Parameters\n",
        "        :param model: Model to train and validate\n",
        "        :param loss_criterion: Loss Criterion to minimize\n",
        "        :param optimizer: Optimizer for computing gradients\n",
        "        :param epochs: Number of epochs (default=25)\n",
        "\n",
        "    Returns\n",
        "        model: Trained Model with best validation accuracy\n",
        "        history: (dict object): Having training loss, accuracy and validation loss, accuracy\n",
        "    '''\n",
        "\n",
        "    start = time.time()\n",
        "    history = []\n",
        "    best_acc = 0.0\n",
        "\n",
        "    for epoch in range(epochs):\n",
        "        epoch_start = time.time()\n",
        "        print(\"Epoch: {}/{}\".format(epoch+1, epochs))\n",
        "\n",
        "        # Set to training mode\n",
        "        model.train()\n",
        "\n",
        "        # Loss and Accuracy within the epoch\n",
        "        train_loss = 0.0\n",
        "        train_acc = 0.0\n",
        "\n",
        "        valid_loss = 0.0\n",
        "        valid_acc = 0.0\n",
        "\n",
        "        for i, (inputs, labels) in enumerate(trainloader):\n",
        "\n",
        "            inputs = inputs.to(device)\n",
        "            labels = labels.to(device)\n",
        "\n",
        "            # Clean existing gradients\n",
        "            optimizer.zero_grad()\n",
        "\n",
        "            # Forward pass - compute outputs on input data using the model\n",
        "            outputs = model(inputs)\n",
        "\n",
        "            # Compute loss\n",
        "            loss = loss_criterion(outputs, labels)\n",
        "\n",
        "            # Backpropagate the gradients\n",
        "            loss.backward()\n",
        "\n",
        "            # Update the parameters\n",
        "            optimizer.step()\n",
        "\n",
        "            # Compute the total loss for the batch and add it to train_loss\n",
        "            train_loss += loss.item() * inputs.size(0)\n",
        "\n",
        "            # Compute the accuracy\n",
        "            ret, predictions = torch.max(outputs.data, 1)\n",
        "            correct_counts = predictions.eq(labels.data.view_as(predictions))\n",
        "\n",
        "            # Convert correct_counts to float and then compute the mean\n",
        "            acc = torch.mean(correct_counts.type(torch.FloatTensor))\n",
        "\n",
        "            # Compute total accuracy in the whole batch and add to train_acc\n",
        "            train_acc += acc.item() * inputs.size(0)\n",
        "\n",
        "            #print(\"Batch number: {:03d}, Training: Loss: {:.4f}, Accuracy: {:.4f}\".format(i, loss.item(), acc.item()))\n",
        "\n",
        "        # Validation - No gradient tracking needed\n",
        "        with torch.no_grad():\n",
        "\n",
        "            # Set to evaluation mode\n",
        "            model.eval()\n",
        "\n",
        "            # Validation loop\n",
        "            for j, (inputs, labels) in enumerate(testloader):\n",
        "                inputs = inputs.to(device)\n",
        "                labels = labels.to(device)\n",
        "\n",
        "                # Forward pass - compute outputs on input data using the model\n",
        "                outputs = model(inputs)\n",
        "\n",
        "                # Compute loss\n",
        "                loss = loss_criterion(outputs, labels)\n",
        "\n",
        "                # Compute the total loss for the batch and add it to valid_loss\n",
        "                valid_loss += loss.item() * inputs.size(0)\n",
        "\n",
        "                # Calculate validation accuracy\n",
        "                ret, predictions = torch.max(outputs.data, 1)\n",
        "                correct_counts = predictions.eq(labels.data.view_as(predictions))\n",
        "\n",
        "                # Convert correct_counts to float and then compute the mean\n",
        "                acc = torch.mean(correct_counts.type(torch.FloatTensor))\n",
        "\n",
        "                # Compute total accuracy in the whole batch and add to valid_acc\n",
        "                valid_acc += acc.item() * inputs.size(0)\n",
        "\n",
        "                #print(\"Validation Batch number: {:03d}, Validation: Loss: {:.4f}, Accuracy: {:.4f}\".format(j, loss.item(), acc.item()))\n",
        "\n",
        "        # Find average training loss and training accuracy\n",
        "        avg_train_loss = train_loss/train_data_size\n",
        "        avg_train_acc = train_acc/train_data_size\n",
        "\n",
        "        # Find average training loss and training accuracy\n",
        "        avg_test_loss = valid_loss/test_data_size\n",
        "        avg_test_acc = valid_acc/test_data_size\n",
        "\n",
        "        history.append([avg_train_loss, avg_test_loss, avg_train_acc, avg_test_acc])\n",
        "\n",
        "        epoch_end = time.time()\n",
        "\n",
        "        print(\"Epoch : {:03d}, Training: Loss: {:.4f}, Accuracy: {:.4f}%, \\n\\t\\tValidation : Loss : {:.4f}, Accuracy: {:.4f}%, Time: {:.4f}s\".format(epoch, avg_train_loss, avg_train_acc*100, avg_test_loss, avg_test_acc*100, epoch_end-epoch_start))\n",
        "\n",
        "        # Save if the model has best accuracy till now\n",
        "        torch.save(model, 'best_model'+str(epoch)+'.pt')\n",
        "\n",
        "    return model, history"
      ],
      "metadata": {
        "id": "qaK76jL8leX7"
      },
      "execution_count": null,
      "outputs": []
    },
    {
      "cell_type": "code",
      "source": [
        "# 4. Train the model for 25 epochs\n",
        "\n",
        "num_epochs = 25\n",
        "trained_model, history = train_and_validate(model, criterion, optimizer, num_epochs)"
      ],
      "metadata": {
        "colab": {
          "base_uri": "https://localhost:8080/"
        },
        "id": "l5Tqb0pUnclS",
        "outputId": "52eefa71-7831-4a54-a309-49d7b7bfce39"
      },
      "execution_count": null,
      "outputs": [
        {
          "output_type": "stream",
          "name": "stdout",
          "text": [
            "Epoch: 1/25\n",
            "Epoch : 000, Training: Loss: 1.6421, Accuracy: 34.0967%, \n",
            "\t\tValidation : Loss : 1.4590, Accuracy: 43.8579%, Time: 21.7824s\n",
            "Epoch: 2/25\n",
            "Epoch : 001, Training: Loss: 1.3674, Accuracy: 47.4064%, \n",
            "\t\tValidation : Loss : 1.3577, Accuracy: 46.2638%, Time: 22.2989s\n",
            "Epoch: 3/25\n",
            "Epoch : 002, Training: Loss: 1.2517, Accuracy: 52.1321%, \n",
            "\t\tValidation : Loss : 1.2824, Accuracy: 51.2171%, Time: 21.9800s\n",
            "Epoch: 4/25\n",
            "Epoch : 003, Training: Loss: 1.1660, Accuracy: 55.5845%, \n",
            "\t\tValidation : Loss : 1.2228, Accuracy: 53.9909%, Time: 23.0569s\n",
            "Epoch: 5/25\n",
            "Epoch : 004, Training: Loss: 1.0919, Accuracy: 58.7384%, \n",
            "\t\tValidation : Loss : 1.2261, Accuracy: 54.2740%, Time: 21.5865s\n",
            "Epoch: 6/25\n",
            "Epoch : 005, Training: Loss: 1.0139, Accuracy: 61.6113%, \n",
            "\t\tValidation : Loss : 1.2343, Accuracy: 53.7220%, Time: 22.7388s\n",
            "Epoch: 7/25\n",
            "Epoch : 006, Training: Loss: 0.9414, Accuracy: 64.6404%, \n",
            "\t\tValidation : Loss : 1.2162, Accuracy: 55.0948%, Time: 23.2942s\n",
            "Epoch: 8/25\n",
            "Epoch : 007, Training: Loss: 0.8661, Accuracy: 67.4716%, \n",
            "\t\tValidation : Loss : 1.2647, Accuracy: 55.5760%, Time: 22.6027s\n",
            "Epoch: 9/25\n",
            "Epoch : 008, Training: Loss: 0.7837, Accuracy: 70.7054%, \n",
            "\t\tValidation : Loss : 1.3199, Accuracy: 55.5618%, Time: 21.9349s\n",
            "Epoch: 10/25\n",
            "Epoch : 009, Training: Loss: 0.7170, Accuracy: 73.4152%, \n",
            "\t\tValidation : Loss : 1.3436, Accuracy: 56.3544%, Time: 24.1765s\n",
            "Epoch: 11/25\n",
            "Epoch : 010, Training: Loss: 0.6366, Accuracy: 76.5032%, \n",
            "\t\tValidation : Loss : 1.4590, Accuracy: 56.2695%, Time: 22.6573s\n",
            "Epoch: 12/25\n",
            "Epoch : 011, Training: Loss: 0.5627, Accuracy: 79.2408%, \n",
            "\t\tValidation : Loss : 1.5275, Accuracy: 55.6751%, Time: 22.8278s\n",
            "Epoch: 13/25\n",
            "Epoch : 012, Training: Loss: 0.4988, Accuracy: 81.7459%, \n",
            "\t\tValidation : Loss : 1.6857, Accuracy: 55.5477%, Time: 22.1689s\n",
            "Epoch: 14/25\n",
            "Epoch : 013, Training: Loss: 0.4335, Accuracy: 84.1331%, \n",
            "\t\tValidation : Loss : 1.8466, Accuracy: 55.1373%, Time: 22.6993s\n",
            "Epoch: 15/25\n",
            "Epoch : 014, Training: Loss: 0.3895, Accuracy: 85.8645%, \n",
            "\t\tValidation : Loss : 1.9813, Accuracy: 54.1891%, Time: 22.7694s\n",
            "Epoch: 16/25\n",
            "Epoch : 015, Training: Loss: 0.3367, Accuracy: 87.9393%, \n",
            "\t\tValidation : Loss : 2.0777, Accuracy: 55.0524%, Time: 22.8058s\n",
            "Epoch: 17/25\n",
            "Epoch : 016, Training: Loss: 0.3021, Accuracy: 88.9803%, \n",
            "\t\tValidation : Loss : 2.2381, Accuracy: 54.1183%, Time: 22.4007s\n",
            "Epoch: 18/25\n",
            "Epoch : 017, Training: Loss: 0.2772, Accuracy: 90.0836%, \n",
            "\t\tValidation : Loss : 2.5176, Accuracy: 53.7928%, Time: 22.3618s\n",
            "Epoch: 19/25\n",
            "Epoch : 018, Training: Loss: 0.2451, Accuracy: 91.2043%, \n",
            "\t\tValidation : Loss : 2.4973, Accuracy: 54.7835%, Time: 22.8319s\n",
            "Epoch: 20/25\n",
            "Epoch : 019, Training: Loss: 0.2327, Accuracy: 91.7178%, \n",
            "\t\tValidation : Loss : 2.6993, Accuracy: 53.8211%, Time: 22.4670s\n",
            "Epoch: 21/25\n",
            "Epoch : 020, Training: Loss: 0.2013, Accuracy: 92.8455%, \n",
            "\t\tValidation : Loss : 2.7794, Accuracy: 54.7410%, Time: 22.9838s\n",
            "Epoch: 22/25\n",
            "Epoch : 021, Training: Loss: 0.1838, Accuracy: 93.4978%, \n",
            "\t\tValidation : Loss : 2.8096, Accuracy: 53.0427%, Time: 24.4610s\n",
            "Epoch: 23/25\n",
            "Epoch : 022, Training: Loss: 0.1815, Accuracy: 93.5082%, \n",
            "\t\tValidation : Loss : 2.9734, Accuracy: 54.4297%, Time: 23.7136s\n",
            "Epoch: 24/25\n",
            "Epoch : 023, Training: Loss: 0.1697, Accuracy: 93.9974%, \n",
            "\t\tValidation : Loss : 3.0647, Accuracy: 54.1183%, Time: 23.0057s\n",
            "Epoch: 25/25\n",
            "Epoch : 024, Training: Loss: 0.1553, Accuracy: 94.5665%, \n",
            "\t\tValidation : Loss : 3.2108, Accuracy: 54.7835%, Time: 22.7800s\n"
          ]
        }
      ]
    },
    {
      "cell_type": "code",
      "source": [
        "# 5. Analyze the loss curve\n",
        "\n",
        "history = np.array(history)\n",
        "plt.plot(history[:,0:2])\n",
        "plt.legend(['Tr Loss', 'Val Loss'])\n",
        "plt.xlabel('Epoch Number')\n",
        "plt.ylabel('Loss')\n",
        "plt.ylim(0,3)\n",
        "# plt.savefig('loss_curve.png')\n",
        "plt.show()"
      ],
      "metadata": {
        "id": "q4B0cQMQne0o",
        "colab": {
          "base_uri": "https://localhost:8080/",
          "height": 455
        },
        "outputId": "4f5e5627-812a-40ea-b183-74b073e2de50"
      },
      "execution_count": null,
      "outputs": [
        {
          "output_type": "display_data",
          "data": {
            "text/plain": [
              "<Figure size 640x480 with 1 Axes>"
            ],
            "image/png": "[encoded data removed]"
          },
          "metadata": {}
        }
      ]
    },
    {
      "cell_type": "code",
      "source": [
        "# 6. Analyze the accuracy curve\n",
        "\n",
        "plt.plot(history[:,2:4])\n",
        "plt.legend(['Tr Accuracy', 'Val Accuracy'])\n",
        "plt.xlabel('Epoch Number')\n",
        "plt.ylabel('Accuracy')\n",
        "plt.ylim(0,1)\n",
        "# plt.savefig('accuracy_curve.png')\n",
        "plt.show()"
      ],
      "metadata": {
        "colab": {
          "base_uri": "https://localhost:8080/",
          "height": 455
        },
        "id": "i5ymBvtZvRR1",
        "outputId": "4d574e35-e048-4be2-be57-79bcd1bcd175"
      },
      "execution_count": null,
      "outputs": [
        {
          "output_type": "display_data",
          "data": {
            "text/plain": [
              "<Figure size 640x480 with 1 Axes>"
            ],
            "image/png": "[encoded data removed]"
          },
          "metadata": {}
        }
      ]
    }
  ]
}